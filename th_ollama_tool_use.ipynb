{
 "cells": [
  {
   "cell_type": "markdown",
   "metadata": {},
   "source": [
    "This cell sets up the Google Colab environment to handle asynchronous programming and enables the display of rich HTML content.\n",
    "\n",
    "1. **`import nest_asyncio`**: Imports the `nest_asyncio` library, which allows for the smooth handling of asynchronous tasks in environments like Google Colab, where nested event loops might otherwise cause issues.\n",
    "\n",
    "2. **`nest_asyncio.apply()`**: Applies a patch that enables running asynchronous code without conflicts. This is particularly useful when working with `asyncio` in notebooks, allowing for proper execution of asynchronous tasks.\n",
    "\n",
    "3. **`from IPython.display import display, HTML`**: Imports functions from IPython’s display module that allow for the rendering of rich media content (like HTML) directly within the notebook. This enables the output of formatted HTML, which can be used for interactive content or visually enriched outputs.\n",
    "\n",
    "This setup ensures that you can effectively run and display asynchronous code alongside HTML content in the same notebook."
   ]
  },
  {
   "cell_type": "code",
   "execution_count": 3,
   "metadata": {},
   "outputs": [],
   "source": [
    "import nest_asyncio\n",
    "\n",
    "nest_asyncio.apply()\n",
    "\n",
    "from IPython.display import display, HTML"
   ]
  },
  {
   "cell_type": "markdown",
   "metadata": {},
   "source": [
    "Ensure you have Ollama installed"
   ]
  },
  {
   "cell_type": "code",
   "execution_count": 4,
   "metadata": {},
   "outputs": [
    {
     "name": "stdout",
     "output_type": "stream",
     "text": [
      "/usr/local/bin/ollama\n"
     ]
    }
   ],
   "source": [
    "!which ollama"
   ]
  },
  {
   "cell_type": "markdown",
   "metadata": {},
   "source": [
    "To install Ollama: https://ollama.com/download"
   ]
  },
  {
   "cell_type": "markdown",
   "metadata": {},
   "source": [
    "Ensure you have Mistral in Ollama"
   ]
  },
  {
   "cell_type": "code",
   "execution_count": 6,
   "metadata": {},
   "outputs": [
    {
     "name": "stdout",
     "output_type": "stream",
     "text": [
      "NAME          \tID          \tSIZE  \tMODIFIED     \n",
      "mistral:latest\tf974a74358d6\t4.1 GB\t27 hours ago\t\n",
      "llama3:latest \t365c0bd3c000\t4.7 GB\t2 months ago\t\n"
     ]
    }
   ],
   "source": [
    "!ollama list"
   ]
  },
  {
   "cell_type": "markdown",
   "metadata": {},
   "source": [
    "To install Mistral on Ollama run the following cell"
   ]
  },
  {
   "cell_type": "code",
   "execution_count": 7,
   "metadata": {},
   "outputs": [
    {
     "name": "stdout",
     "output_type": "stream",
     "text": [
      "\u001b[?25lpulling manifest ⠋ \u001b[?25h\u001b[?25l\u001b[2K\u001b[1Gpulling manifest ⠙ \u001b[?25h\u001b[?25l\u001b[2K\u001b[1Gpulling manifest ⠹ \u001b[?25h\u001b[?25l\u001b[2K\u001b[1Gpulling manifest ⠸ \u001b[?25h\u001b[?25l\u001b[2K\u001b[1Gpulling manifest ⠼ \u001b[?25h\u001b[?25l\u001b[2K\u001b[1Gpulling manifest ⠴ \u001b[?25h\u001b[?25l\u001b[2K\u001b[1Gpulling manifest ⠦ \u001b[?25h\u001b[?25l\u001b[2K\u001b[1Gpulling manifest \n",
      "pulling ff82381e2bea... 100% ▕████████████████▏ 4.1 GB                         \n",
      "pulling 43070e2d4e53... 100% ▕████████████████▏  11 KB                         \n",
      "pulling 491dfa501e59... 100% ▕████████████████▏  801 B                         \n",
      "pulling ed11eda7790d... 100% ▕████████████████▏   30 B                         \n",
      "pulling 42347cd80dc8... 100% ▕████████████████▏  485 B                         \n",
      "verifying sha256 digest \n",
      "writing manifest \n",
      "success \u001b[?25h\n"
     ]
    }
   ],
   "source": [
    "!ollama pull mistral"
   ]
  },
  {
   "cell_type": "code",
   "execution_count": 8,
   "metadata": {},
   "outputs": [
    {
     "name": "stdout",
     "output_type": "stream",
     "text": [
      "Note: you may need to restart the kernel to use updated packages.\n"
     ]
    }
   ],
   "source": [
    "%pip install ollama --quiet"
   ]
  },
  {
   "cell_type": "code",
   "execution_count": 22,
   "metadata": {},
   "outputs": [
    {
     "name": "stdout",
     "output_type": "stream",
     "text": [
      "1. Title: Articles about humidity | Gothamist\n",
      "     - Published Date: 2021-07-06T00:00:00.000Z\n",
      "     - Author: Jen Chung\n",
      "     - URL: https://gothamist.com/tags/humidity\n",
      "     - Text: Latest Articles Tagged \"humidity\"... With a RealFeel™ of Lake of Fire... Humidity break? We'll take it.... And today is the NYC Triathlon!... Catch up on the most important headlines with a roundup of essential NYC stories, delivered to your inbox daily.\n",
      "\n",
      "  2. Title: Articles about hot | Gothamist\n",
      "     - Published Date: 2021-07-06T00:00:00.000Z\n",
      "     - Author: Jen Chung\n",
      "     - URL: https://gothamist.com/tags/hot\n",
      "     - Text: Latest Articles Tagged \"hot\"... It's allegedly \"cooling down\" this week, if 80-degree weather strikes you as \"cool.\"... It may not feel like it right now, but a sizzling heat wave will soon be on our doorstep.... Catch up on the most important headlines with a roundup of essential NYC stories, delivered to your inbox daily.\n",
      "\n",
      "  3. Title: Articles about foggy | Gothamist\n",
      "     - Published Date: 2014-01-12T00:00:00.000Z\n",
      "     - Author: Ben Yakas\n",
      "     - URL: https://gothamist.com/tags/foggy\n",
      "     - Text: Latest Articles Tagged \"foggy\"... Check out some gorgeous photos of the city enveloped in a thick coat of low-lying stratus clouds.... Catch up on the most important headlines with a roundup of essential NYC stories, delivered to your inbox daily.\n"
     ]
    }
   ],
   "source": [
    "import json\n",
    "import ollama\n",
    "import asyncio\n",
    "import requests\n",
    "\n",
    "# Set your Exa API key\n",
    "EXA_API_KEY = \"32d520b3-b8ee-4fad-88a6-18fec4b50ad6\"\n",
    "\n",
    "# Web search using Exa AI\n",
    "def search_web(query: str) -> str:\n",
    "  headers = {\n",
    "    'accept': 'application/json',\n",
    "    'content-type': 'application/json',\n",
    "    'x-api-key': EXA_API_KEY,\n",
    "  }\n",
    "  data = {\n",
    "    \"query\": query,\n",
    "    \"type\": \"neural\",\n",
    "    \"useAutoprompt\": True,\n",
    "    \"numResults\": 10,\n",
    "    \"contents\": {\n",
    "      \"text\": True\n",
    "    }\n",
    "  }\n",
    "  # Correct Exa AI search endpoint\n",
    "  response = requests.post('https://api.exa.ai/search', headers=headers, json=data)\n",
    "  \n",
    "  # Check if the response is valid JSON\n",
    "  try:\n",
    "    response.raise_for_status()  # Raise an error for bad status codes\n",
    "    response_json = response.json()\n",
    "  except requests.exceptions.HTTPError as http_err:\n",
    "    print(f\"HTTP error occurred: {http_err}\")\n",
    "    return json.dumps({'error': 'HTTP error occurred'})\n",
    "  except json.JSONDecodeError:\n",
    "    print(\"Failed to decode JSON. Response content:\")\n",
    "    print(response.text)\n",
    "    return json.dumps({'error': 'Failed to decode JSON response'})\n",
    "\n",
    "  return json.dumps(response_json)\n",
    "\n",
    "async def run(model: str):\n",
    "  client = ollama.AsyncClient()\n",
    "  # Initialize conversation with a user query\n",
    "  messages = [{'role': 'user', 'content': 'Search the web for \"current weather in New York\"'}]\n",
    "\n",
    "  # First API call: Send the query and function description to the model\n",
    "  response = await client.chat(\n",
    "    model=model,\n",
    "    messages=messages,\n",
    "    tools=[\n",
    "      {\n",
    "        'type': 'function',\n",
    "        'function': {\n",
    "          'name': 'search_web',\n",
    "          'description': 'Search the web for a given query',\n",
    "          'parameters': {\n",
    "            'type': 'object',\n",
    "            'properties': {\n",
    "              'query': {\n",
    "                'type': 'string',\n",
    "                'description': 'The search query',\n",
    "              },\n",
    "            },\n",
    "            'required': ['query'],\n",
    "          },\n",
    "        },\n",
    "      },\n",
    "    ],\n",
    "  )\n",
    "\n",
    "  # Add the model's response to the conversation history\n",
    "  messages.append(response['message'])\n",
    "\n",
    "  # Check if the model decided to use the provided function\n",
    "  if not response['message'].get('tool_calls'):\n",
    "    print(\"The model didn't use the function. Its response was:\")\n",
    "    print(response['message']['content'])\n",
    "    return\n",
    "\n",
    "  # Process function calls made by the model\n",
    "  if response['message'].get('tool_calls'):\n",
    "    available_functions = {\n",
    "      'search_web': search_web,\n",
    "    }\n",
    "    for tool in response['message']['tool_calls']:\n",
    "      function_to_call = available_functions[tool['function']['name']]\n",
    "      function_response = function_to_call(tool['function']['arguments']['query'])\n",
    "      # Add function response to the conversation\n",
    "      messages.append(\n",
    "        {\n",
    "          'role': 'tool',\n",
    "          'content': function_response,\n",
    "        }\n",
    "      )\n",
    "\n",
    "  # Second API call: Get final response from the model\n",
    "  final_response = await client.chat(model=model, messages=messages)\n",
    "  print(final_response['message']['content'])\n",
    "\n",
    "\n",
    "# Run the async function\n",
    "asyncio.run(run('mistral'))"
   ]
  },
  {
   "cell_type": "code",
   "execution_count": 10,
   "metadata": {},
   "outputs": [
    {
     "name": "stdout",
     "output_type": "stream",
     "text": [
      "Note: you may need to restart the kernel to use updated packages.\n"
     ]
    }
   ],
   "source": [
    "%pip install toolhouse --quiet"
   ]
  }
 ],
 "metadata": {
  "kernelspec": {
   "display_name": "Python 3",
   "language": "python",
   "name": "python3"
  },
  "language_info": {
   "codemirror_mode": {
    "name": "ipython",
    "version": 3
   },
   "file_extension": ".py",
   "mimetype": "text/x-python",
   "name": "python",
   "nbconvert_exporter": "python",
   "pygments_lexer": "ipython3",
   "version": "3.12.4"
  }
 },
 "nbformat": 4,
 "nbformat_minor": 2
}
