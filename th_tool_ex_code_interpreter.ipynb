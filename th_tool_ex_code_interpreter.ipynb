{
  "nbformat": 4,
  "nbformat_minor": 0,
  "metadata": {
    "colab": {
      "private_outputs": true,
      "provenance": [],
      "machine_shape": "hm",
      "authorship_tag": "ABX9TyP4JYBXfzUQQy1bKXh0dVh+",
      "include_colab_link": true
    },
    "kernelspec": {
      "name": "python3",
      "display_name": "Python 3"
    },
    "language_info": {
      "name": "python"
    }
  },
  "cells": [
    {
      "cell_type": "markdown",
      "metadata": {
        "id": "view-in-github",
        "colab_type": "text"
      },
      "source": [
        "<a href=\"https://colab.research.google.com/github/alexfazio/toolhouse-cookbook/blob/main/th_tool_ex_code_interpreter.ipynb\" target=\"_parent\"><img src=\"https://colab.research.google.com/assets/colab-badge.svg\" alt=\"Open In Colab\"/></a>"
      ]
    },
    {
      "cell_type": "code",
      "source": [
        "# @title Dependencies\n",
        "\n",
        "# Install the toolhouse library\n",
        "%pip install toolhouse openai\n",
        "\n",
        "print(\"---\")\n",
        "!pip show toolhouse openai\n",
        "\n",
        "# Import necessary libraries\n",
        "from toolhouse import Toolhouse\n",
        "import os"
      ],
      "metadata": {
        "id": "ROztkNF7UzJk"
      },
      "execution_count": null,
      "outputs": []
    },
    {
      "cell_type": "code",
      "source": [
        "# @title Enter API Keys\n",
        "\n",
        "from getpass import getpass\n",
        "\n",
        "# Set up the Toolhouse API key\n",
        "toolhouse_api_key = getpass(\"Enter your Toolhouse API key: \")\n",
        "os.environ[\"TOOLHOUSE_API_KEY\"] = toolhouse_api_key\n",
        "\n",
        "# Set up the Toolhouse API key\n",
        "openai_api_key = getpass(\"Enter your OpenAI API key: \")\n",
        "os.environ[\"OPENAI_API_KEY\"] = openai_api_key\n"
      ],
      "metadata": {
        "id": "3dL2MTD5VR2G"
      },
      "execution_count": null,
      "outputs": []
    },
    {
      "cell_type": "code",
      "source": [
        "# @title Check Available Tools\n",
        "\n",
        "# # Create a Toolhouse instance\n",
        "provider = \"openai\" # @param [\"openai\",\"anthropic\"]\n",
        "# t = Toolhouse(provider)  # You can change the provider if needed\n",
        "\n",
        "# Create a Toolhouse instance\n",
        "t = Toolhouse(provider=provider)  # You can change the provider if needed\n",
        "\n",
        "# Get the list of available tools\n",
        "available_tools = t.get_tools()\n",
        "\n",
        "# Print the list of available tools\n",
        "if not available_tools:\n",
        "    print(\"No tools are currently installed.\")\n",
        "else:\n",
        "    print(\"Available tools:\")\n",
        "    for tool in available_tools:\n",
        "        print(f\"- {tool.get('name')}\")\n",
        "\n",
        "print(available_tools)"
      ],
      "metadata": {
        "id": "gYNt7kk6UTUI"
      },
      "execution_count": null,
      "outputs": []
    },
    {
      "cell_type": "code",
      "source": [
        "# @title Kickoff\n",
        "\n",
        "from typing import List\n",
        "# 👋 Make sure you've also installed the OpenAI SDK through: pip install openai\n",
        "from openai import OpenAI\n",
        "from toolhouse import Toolhouse\n",
        "\n",
        "# Let's set our API Keys.\n",
        "# Please remember to use a safer system to store your API KEYS\n",
        "# after finishing the quick start.\n",
        "\n",
        "# Define the OpenAI model we want to use\n",
        "MODEL = 'gpt-4o'\n",
        "\n",
        "assert 'code_interpreter' not in available_tools[0], f\"'code_interpreter' is not in available_tools.\\n\\n[available_tools]: {available_tools}\"\n",
        "\n",
        "# Retrieve the API keys from environment variables\n",
        "openai_api_key = os.getenv(\"OPENAI_API_KEY\")\n",
        "toolhouse_api_key = os.getenv(\"TOOLHOUSE_API_KEY\")\n",
        "\n",
        "# Use the retrieved API keys to initialize your clients\n",
        "client = OpenAI(api_key=openai_api_key)\n",
        "th = Toolhouse(access_token=toolhouse_api_key)\n",
        "\n",
        "th.set_metadata(\"timezone\", -7)\n",
        "\n",
        "messages: List[dict] = [{\n",
        "    \"role\": \"user\",\n",
        "    \"content\":\n",
        "        \"Generate FizzBuzz code.\"\n",
        "        \"Execute it to show me the results up to 10.\"\n",
        "}]\n",
        "\n",
        "response = client.chat.completions.create(\n",
        "  model=MODEL,\n",
        "  messages=messages,\n",
        "  # Passes Code Execution as a tool\n",
        "  tools=th.get_tools()\n",
        ")\n",
        "\n",
        "# Runs the Code Execution tool, gets the result,\n",
        "# and appends it to the context\n",
        "messages += th.run_tools(response)\n",
        "\n",
        "response = client.chat.completions.create(\n",
        "  model=MODEL,\n",
        "  messages=messages,\n",
        "  tools=th.get_tools()\n",
        ")\n",
        "# Prints the response with the answer\n",
        "print(response.choices[0].message.content)"
      ],
      "metadata": {
        "id": "Vy9rmpHT88s-"
      },
      "execution_count": null,
      "outputs": []
    }
  ]
}